{
 "cells": [
  {
   "cell_type": "code",
   "execution_count": 20,
   "metadata": {},
   "outputs": [],
   "source": [
    "import numpy as np \n",
    "import pandas as pd \n",
    "import seaborn as sns\n",
    "import matplotlib.pyplot as plt\n",
    "from datetime import datetime"
   ]
  },
  {
   "cell_type": "code",
   "execution_count": 21,
   "metadata": {},
   "outputs": [],
   "source": [
    "players = pd.read_csv('C:/Users/parks/OneDrive/바탕 화면/DATASET/Football/players.csv')\n",
    "clubs = pd.read_csv('C:/Users/parks/OneDrive/바탕 화면/DATASET/Football/clubs.csv')\n",
    "valuations = pd.read_csv('C:/Users/parks/OneDrive/바탕 화면/DATASET/Football/player_valuations.csv')\n",
    "games = pd.read_csv('C:/Users/parks/OneDrive/바탕 화면/DATASET/Football/games.csv')\n",
    "lineup = pd.read_csv('C:/Users/parks/OneDrive/바탕 화면/DATASET/Football/game_lineups.csv')\n",
    "club_games = pd.read_csv('C:/Users/parks/OneDrive/바탕 화면/DATASET/Football/club_games.csv')\n",
    "game_events = pd.read_csv('C:/Users/parks/OneDrive/바탕 화면/DATASET/Football/game_events.csv')\n",
    "competitions = pd.read_csv('C:/Users/parks/OneDrive/바탕 화면/DATASET/Football/competitions.csv')\n",
    "appearances = pd.read_csv('C:/Users/parks/OneDrive/바탕 화면/DATASET/Football/appearances.csv')"
   ]
  },
  {
   "cell_type": "code",
   "execution_count": 22,
   "metadata": {},
   "outputs": [
    {
     "data": {
      "text/plain": [
       "array(['ELQ', 'IT1', 'EL', 'CIT', 'SCI', 'CLQ', 'DFL', 'DFB', 'L1', 'CL',\n",
       "       'GB1', 'FAC', 'FR1', 'GR1', 'GRP', 'TR1', 'GBCS', 'ES1', 'CDR',\n",
       "       'DK1', 'DKP', 'KLUB', 'RU1', 'NL1', 'NLP', 'RUP', 'SC1', 'SFA',\n",
       "       'FRCH', 'BE1', 'UKR1', 'RUSS', 'USC', 'POCP', 'PO1', 'CGB', 'BESC',\n",
       "       'NLSC', 'UKRP', 'SUC', 'POSU', 'UKRS', 'ECLQ'], dtype=object)"
      ]
     },
     "execution_count": 22,
     "metadata": {},
     "output_type": "execute_result"
    }
   ],
   "source": [
    "df = pd.merge(players, appearances, on='player_id')\n",
    "df['competition_id'].unique()"
   ]
  },
  {
   "cell_type": "code",
   "execution_count": 23,
   "metadata": {},
   "outputs": [],
   "source": [
    "df = df[df['competition_id'] == 'GB1']"
   ]
  },
  {
   "cell_type": "code",
   "execution_count": 24,
   "metadata": {},
   "outputs": [],
   "source": [
    "df = pd.merge(df, valuations, on='player_id')"
   ]
  },
  {
   "cell_type": "code",
   "execution_count": 25,
   "metadata": {},
   "outputs": [
    {
     "name": "stdout",
     "output_type": "stream",
     "text": [
      "<class 'pandas.core.frame.DataFrame'>\n",
      "RangeIndex: 3488423 entries, 0 to 3488422\n",
      "Data columns (total 39 columns):\n",
      " #   Column                                Dtype  \n",
      "---  ------                                -----  \n",
      " 0   player_id                             int64  \n",
      " 1   first_name                            object \n",
      " 2   last_name                             object \n",
      " 3   name                                  object \n",
      " 4   last_season                           int64  \n",
      " 5   current_club_id_x                     int64  \n",
      " 6   player_code                           object \n",
      " 7   country_of_birth                      object \n",
      " 8   city_of_birth                         object \n",
      " 9   country_of_citizenship                object \n",
      " 10  date_of_birth                         object \n",
      " 11  sub_position                          object \n",
      " 12  position                              object \n",
      " 13  foot                                  object \n",
      " 14  height_in_cm                          float64\n",
      " 15  contract_expiration_date              object \n",
      " 16  agent_name                            object \n",
      " 17  image_url                             object \n",
      " 18  url                                   object \n",
      " 19  current_club_domestic_competition_id  object \n",
      " 20  current_club_name                     object \n",
      " 21  market_value_in_eur_x                 float64\n",
      " 22  highest_market_value_in_eur           float64\n",
      " 23  appearance_id                         object \n",
      " 24  game_id                               int64  \n",
      " 25  player_club_id                        int64  \n",
      " 26  player_current_club_id                int64  \n",
      " 27  date_x                                object \n",
      " 28  player_name                           object \n",
      " 29  competition_id                        object \n",
      " 30  yellow_cards                          int64  \n",
      " 31  red_cards                             int64  \n",
      " 32  goals                                 int64  \n",
      " 33  assists                               int64  \n",
      " 34  minutes_played                        int64  \n",
      " 35  date_y                                object \n",
      " 36  market_value_in_eur_y                 int64  \n",
      " 37  current_club_id_y                     int64  \n",
      " 38  player_club_domestic_competition_id   object \n",
      "dtypes: float64(3), int64(13), object(23)\n",
      "memory usage: 1.0+ GB\n"
     ]
    }
   ],
   "source": [
    "df.info()"
   ]
  },
  {
   "cell_type": "code",
   "execution_count": 26,
   "metadata": {},
   "outputs": [],
   "source": [
    "df = df.drop(['first_name', 'last_name', 'current_club_id_x', 'image_url', 'url'], axis=1)"
   ]
  },
  {
   "cell_type": "code",
   "execution_count": 27,
   "metadata": {},
   "outputs": [
    {
     "name": "stdout",
     "output_type": "stream",
     "text": [
      "<class 'pandas.core.frame.DataFrame'>\n",
      "RangeIndex: 3488423 entries, 0 to 3488422\n",
      "Data columns (total 34 columns):\n",
      " #   Column                                Dtype  \n",
      "---  ------                                -----  \n",
      " 0   player_id                             int64  \n",
      " 1   name                                  object \n",
      " 2   last_season                           int64  \n",
      " 3   player_code                           object \n",
      " 4   country_of_birth                      object \n",
      " 5   city_of_birth                         object \n",
      " 6   country_of_citizenship                object \n",
      " 7   date_of_birth                         object \n",
      " 8   sub_position                          object \n",
      " 9   position                              object \n",
      " 10  foot                                  object \n",
      " 11  height_in_cm                          float64\n",
      " 12  contract_expiration_date              object \n",
      " 13  agent_name                            object \n",
      " 14  current_club_domestic_competition_id  object \n",
      " 15  current_club_name                     object \n",
      " 16  market_value_in_eur_x                 float64\n",
      " 17  highest_market_value_in_eur           float64\n",
      " 18  appearance_id                         object \n",
      " 19  game_id                               int64  \n",
      " 20  player_club_id                        int64  \n",
      " 21  player_current_club_id                int64  \n",
      " 22  date_x                                object \n",
      " 23  player_name                           object \n",
      " 24  competition_id                        object \n",
      " 25  yellow_cards                          int64  \n",
      " 26  red_cards                             int64  \n",
      " 27  goals                                 int64  \n",
      " 28  assists                               int64  \n",
      " 29  minutes_played                        int64  \n",
      " 30  date_y                                object \n",
      " 31  market_value_in_eur_y                 int64  \n",
      " 32  current_club_id_y                     int64  \n",
      " 33  player_club_domestic_competition_id   object \n",
      "dtypes: float64(3), int64(12), object(19)\n",
      "memory usage: 904.9+ MB\n"
     ]
    }
   ],
   "source": [
    "df.info()"
   ]
  }
 ],
 "metadata": {
  "kernelspec": {
   "display_name": "Python 3",
   "language": "python",
   "name": "python3"
  },
  "language_info": {
   "codemirror_mode": {
    "name": "ipython",
    "version": 3
   },
   "file_extension": ".py",
   "mimetype": "text/x-python",
   "name": "python",
   "nbconvert_exporter": "python",
   "pygments_lexer": "ipython3",
   "version": "3.8.6"
  }
 },
 "nbformat": 4,
 "nbformat_minor": 2
}
